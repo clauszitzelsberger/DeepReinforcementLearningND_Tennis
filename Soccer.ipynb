{
 "cells": [
  {
   "cell_type": "markdown",
   "metadata": {},
   "source": [
    "# Collaboration and Competition\n",
    "\n",
    "---\n",
    "\n",
    "Congratulations for completing the third project of the [Deep Reinforcement Learning Nanodegree](https://www.udacity.com/course/deep-reinforcement-learning-nanodegree--nd893) program!  In this notebook, you will learn how to control agents in a more challenging environment, where the goal is to train a team of agents to play soccer.  **Note that this exercise is optional!**\n",
    "\n",
    "### 1. Start the Environment\n",
    "\n",
    "We begin by importing the necessary packages.  If the code cell below returns an error, please revisit the project instructions to double-check that you have installed [Unity ML-Agents](https://github.com/Unity-Technologies/ml-agents/blob/master/docs/Installation.md) and [NumPy](http://www.numpy.org/)."
   ]
  },
  {
   "cell_type": "code",
   "execution_count": 1,
   "metadata": {},
   "outputs": [],
   "source": [
    "from unityagents import UnityEnvironment\n",
    "import numpy as np"
   ]
  },
  {
   "cell_type": "markdown",
   "metadata": {},
   "source": [
    "Next, we will start the environment!  **_Before running the code cell below_**, change the `file_name` parameter to match the location of the Unity environment that you downloaded.\n",
    "\n",
    "- **Mac**: `\"path/to/Soccer.app\"`\n",
    "- **Windows** (x86): `\"path/to/Soccer_Windows_x86/Soccer.exe\"`\n",
    "- **Windows** (x86_64): `\"path/to/Soccer_Windows_x86_64/Soccer.exe\"`\n",
    "- **Linux** (x86): `\"path/to/Soccer_Linux/Soccer.x86\"`\n",
    "- **Linux** (x86_64): `\"path/to/Soccer_Linux/Soccer.x86_64\"`\n",
    "- **Linux** (x86, headless): `\"path/to/Soccer_Linux_NoVis/Soccer.x86\"`\n",
    "- **Linux** (x86_64, headless): `\"path/to/Soccer_Linux_NoVis/Soccer.x86_64\"`\n",
    "\n",
    "For instance, if you are using a Mac, then you downloaded `Soccer.app`.  If this file is in the same folder as the notebook, then the line below should appear as follows:\n",
    "```\n",
    "env = UnityEnvironment(file_name=\"Soccer.app\")\n",
    "```"
   ]
  },
  {
   "cell_type": "code",
   "execution_count": 2,
   "metadata": {},
   "outputs": [
    {
     "name": "stderr",
     "output_type": "stream",
     "text": [
      "INFO:unityagents:\n",
      "'Academy' started successfully!\n",
      "Unity Academy name: Academy\n",
      "        Number of Brains: 2\n",
      "        Number of External Brains : 2\n",
      "        Lesson number : 0\n",
      "        Reset Parameters :\n",
      "\t\t\n",
      "Unity brain name: GoalieBrain\n",
      "        Number of Visual Observations (per agent): 0\n",
      "        Vector Observation space type: continuous\n",
      "        Vector Observation space size (per agent): 112\n",
      "        Number of stacked Vector Observation: 3\n",
      "        Vector Action space type: discrete\n",
      "        Vector Action space size (per agent): 4\n",
      "        Vector Action descriptions: , , , \n",
      "Unity brain name: StrikerBrain\n",
      "        Number of Visual Observations (per agent): 0\n",
      "        Vector Observation space type: continuous\n",
      "        Vector Observation space size (per agent): 112\n",
      "        Number of stacked Vector Observation: 3\n",
      "        Vector Action space type: discrete\n",
      "        Vector Action space size (per agent): 6\n",
      "        Vector Action descriptions: , , , , , \n"
     ]
    }
   ],
   "source": [
    "env = UnityEnvironment(file_name=\"./Soccer_Windows_x86_64/Soccer.exe\") # Soccer"
   ]
  },
  {
   "cell_type": "markdown",
   "metadata": {},
   "source": [
    "Environments contain **_brains_** which are responsible for deciding the actions of their associated agents. Here we obtain separate brains for the striker and goalie agents."
   ]
  },
  {
   "cell_type": "code",
   "execution_count": 3,
   "metadata": {},
   "outputs": [
    {
     "name": "stdout",
     "output_type": "stream",
     "text": [
      "['GoalieBrain', 'StrikerBrain']\n"
     ]
    }
   ],
   "source": [
    "# print the brain names\n",
    "print(env.brain_names)\n",
    "\n",
    "# set the goalie brain\n",
    "g_brain_name = env.brain_names[0]\n",
    "g_brain = env.brains[g_brain_name]\n",
    "\n",
    "# set the striker brain\n",
    "s_brain_name = env.brain_names[1]\n",
    "s_brain = env.brains[s_brain_name]"
   ]
  },
  {
   "cell_type": "markdown",
   "metadata": {},
   "source": [
    "### 2. Examine the State and Action Spaces\n",
    "\n",
    "Run the code cell below to print some information about the environment."
   ]
  },
  {
   "cell_type": "code",
   "execution_count": 4,
   "metadata": {},
   "outputs": [
    {
     "name": "stdout",
     "output_type": "stream",
     "text": [
      "Number of goalie agents: 2\n",
      "Number of striker agents: 2\n",
      "Number of goalie actions: 4\n",
      "Number of striker actions: 6\n",
      "There are 2 goalie agents. Each receives a state with length: 336\n",
      "There are 2 striker agents. Each receives a state with length: 336\n"
     ]
    }
   ],
   "source": [
    "# reset the environment\n",
    "env_info = env.reset(train_mode=True)\n",
    "\n",
    "# number of agents \n",
    "num_g_agents = len(env_info[g_brain_name].agents)\n",
    "print('Number of goalie agents:', num_g_agents)\n",
    "num_s_agents = len(env_info[s_brain_name].agents)\n",
    "print('Number of striker agents:', num_s_agents)\n",
    "\n",
    "# number of actions\n",
    "g_action_size = g_brain.vector_action_space_size\n",
    "print('Number of goalie actions:', g_action_size)\n",
    "s_action_size = s_brain.vector_action_space_size\n",
    "print('Number of striker actions:', s_action_size)\n",
    "\n",
    "# examine the state space \n",
    "g_states = env_info[g_brain_name].vector_observations\n",
    "g_state_size = g_states.shape[1]\n",
    "print('There are {} goalie agents. Each receives a state with length: {}'.format(g_states.shape[0], g_state_size))\n",
    "s_states = env_info[s_brain_name].vector_observations\n",
    "s_state_size = s_states.shape[1]\n",
    "print('There are {} striker agents. Each receives a state with length: {}'.format(s_states.shape[0], s_state_size))"
   ]
  },
  {
   "cell_type": "markdown",
   "metadata": {},
   "source": [
    "### 3. Take Random Actions in the Environment\n",
    "\n",
    "In the next code cell, you will learn how to use the Python API to control the agents and receive feedback from the environment.\n",
    "\n",
    "Once this cell is executed, you will watch the agents' performance, if they select actions at random with each time step.  A window should pop up that allows you to observe the agents.\n",
    "\n",
    "Of course, as part of the project, you'll have to change the code so that the agents are able to use their experiences to gradually choose better actions when interacting with the environment!"
   ]
  },
  {
   "cell_type": "code",
   "execution_count": null,
   "metadata": {},
   "outputs": [
    {
     "name": "stdout",
     "output_type": "stream",
     "text": [
      "Episode 0\tAverage Score - g:0.15 s:-0.15\n",
      "Episode 100\tAverage Score - g:0.08 s:-0.08\n",
      "Episode 200\tAverage Score - g:0.20 s:-0.20\n",
      "Episode 300\tAverage Score - g:-0.01 s:0.01\n",
      "Episode 400\tAverage Score - g:0.15 s:-0.15\n",
      "Episode 500\tAverage Score - g:0.04 s:-0.04\n",
      "Episode 600\tAverage Score - g:0.08 s:-0.08\n",
      "Episode 700\tAverage Score - g:-0.02 s:0.02\n",
      "Episode 800\tAverage Score - g:0.14 s:-0.14\n",
      "Episode 900\tAverage Score - g:0.07 s:-0.07\n",
      "Episode 1000\tAverage Score - g:0.06 s:-0.06\n",
      "Episode 1100\tAverage Score - g:0.14 s:-0.14\n",
      "Episode 1200\tAverage Score - g:0.03 s:-0.03\n",
      "Episode 1300\tAverage Score - g:0.05 s:-0.05\n",
      "Episode 1400\tAverage Score - g:0.05 s:-0.05\n",
      "Episode 1500\tAverage Score - g:0.08 s:-0.08\n"
     ]
    }
   ],
   "source": [
    "def RandomActionsAgents():\n",
    "    for i in range(2):                                         # play game for 2 episodes\n",
    "        env_info = env.reset(train_mode=False)                 # reset the environment    \n",
    "        g_states = env_info[g_brain_name].vector_observations  # get initial state (goalies)\n",
    "        s_states = env_info[s_brain_name].vector_observations  # get initial state (strikers)\n",
    "        \n",
    "        g_scores = np.zeros(num_g_agents)                      # initialize the score (goalies)\n",
    "        s_scores = np.zeros(num_s_agents)                      # initialize the score (strikers)\n",
    "        \n",
    "        while True:\n",
    "            # select actions and send to environment\n",
    "            g_actions = np.random.randint(g_action_size, size=num_g_agents)\n",
    "            s_actions = np.random.randint(s_action_size, size=num_s_agents)\n",
    "            actions = dict(zip([g_brain_name, s_brain_name], \n",
    "                               [g_actions, s_actions]))\n",
    "            env_info = env.step(actions)                       \n",
    "\n",
    "            # get next states\n",
    "            g_next_states = env_info[g_brain_name].vector_observations         \n",
    "            s_next_states = env_info[s_brain_name].vector_observations\n",
    "\n",
    "            # get reward and update scores\n",
    "            g_rewards = env_info[g_brain_name].rewards  \n",
    "            s_rewards = env_info[s_brain_name].rewards\n",
    "            g_scores += g_rewards\n",
    "            s_scores += s_rewards\n",
    "\n",
    "            # check if episode finished\n",
    "            done = np.any(env_info[g_brain_name].local_done)  \n",
    "\n",
    "            # roll over states to next time step\n",
    "            g_states = g_next_states\n",
    "            s_states = s_next_states\n",
    "\n",
    "            # exit loop if episode finished\n",
    "            if done:                                           \n",
    "                break\n",
    "        print('Scores from episode {}: {} (goalies), {} (strikers)'.format(i+1, g_scores, s_scores))\n",
    "\n",
    "import random\n",
    "import torch\n",
    "from unityagents import UnityEnvironment\n",
    "import numpy as np\n",
    "from collections import deque\n",
    "from itertools import count\n",
    "import time\n",
    "\n",
    "import matplotlib.pyplot as plt\n",
    "%matplotlib inline\n",
    "\n",
    "from ddpg_agent import Agent\n",
    "        \n",
    "def DDPGMA(n_episodes=4000, print_every=100, target_score=0.5, max_t=1000):\n",
    "    env_info = env.reset(train_mode=True)\n",
    "    \n",
    "    goaliesAgents = []\n",
    "    strikersAgents = []\n",
    "    \n",
    "    g_states = env_info[g_brain_name].vector_observations  # get initial state (goalies)\n",
    "    s_states = env_info[s_brain_name].vector_observations  # get initial state (strikers)\n",
    "    \n",
    "    #print(g_state_size)\n",
    "    #print(s_state_size)\n",
    "    \n",
    "    g_scores_deque = deque(maxlen=100)\n",
    "    g_scores = []\n",
    "    \n",
    "    s_scores_deque = deque(maxlen=100)\n",
    "    s_scores = []\n",
    "    \n",
    "    g_agent = Agent(state_size=g_state_size, action_size=g_action_size, random_seed=429)    \n",
    "    s_agent = Agent(state_size=s_state_size, action_size=s_action_size, random_seed=429)    \n",
    "    \n",
    "    \n",
    "    for i_episode in range(0, n_episodes + 1):\n",
    "        env_info = env.reset(train_mode=True)\n",
    "        g_states = env_info[g_brain_name].vector_observations  # get initial state (goalies)\n",
    "        s_states = env_info[s_brain_name].vector_observations  # get initial state (strikers)\n",
    " \n",
    "        g_agent.reset()\n",
    "        s_agent.reset()\n",
    "\n",
    "        g_score = np.zeros(num_g_agents)\n",
    "        s_score = np.zeros(num_s_agents)\n",
    "\n",
    "        while True:\n",
    "        #for t in range(max_t):\n",
    "            g_actions = g_agent.act(g_states)\n",
    "            s_actions = s_agent.act(s_states)\n",
    "\n",
    "            g_actions_4step = g_actions\n",
    "            s_actions_4step = s_actions\n",
    "\n",
    "\n",
    "            g_actions = np.argmax(g_actions, axis=1)\n",
    "            s_actions = np.argmax(s_actions, axis=1)\n",
    "\n",
    "            g_actions = np.expand_dims(g_actions, axis=1)\n",
    "            s_actions = np.expand_dims(s_actions, axis=1)\n",
    "\n",
    "            actions = dict(zip([g_brain_name, s_brain_name], [g_actions, s_actions]))\n",
    "\n",
    "            env_info = env.step(actions)\n",
    "\n",
    "            g_next_state = env_info[g_brain_name].vector_observations\n",
    "            s_next_state = env_info[s_brain_name].vector_observations\n",
    "\n",
    "            g_rewards = env_info[g_brain_name].rewards  \n",
    "            s_rewards = env_info[s_brain_name].rewards\n",
    "\n",
    "            g_dones = env_info[g_brain_name].local_done\n",
    "            s_dones = env_info[s_brain_name].local_done\n",
    "\n",
    "            #print(type(s_states)) \n",
    "            #print(\"states s\", s_states.shape)\n",
    "            #print(type(s_actions)) \n",
    "            #print(\"actions s 4 step\", s_actions_4step.shape)\n",
    "            ##print(type(s_rewards))\n",
    "            #print(type(s_next_state)) \n",
    "            #print(\"next state s\", s_next_state.shape)\n",
    "            ##print(type(s_dones))\n",
    "\n",
    "            s_agent.step(s_states, s_actions_4step, s_rewards, s_next_state, s_dones)\n",
    "            g_agent.step(g_states, g_actions_4step, g_rewards, g_next_state, g_dones)\n",
    "\n",
    "            g_states = g_next_state\n",
    "            s_states = s_next_state\n",
    "\n",
    "            g_score += g_rewards\n",
    "            s_score += s_rewards\n",
    "\n",
    "            if np.any(g_dones) or np.any(s_dones):\n",
    "                break\n",
    "\n",
    "        g_scores_deque.append(np.mean(g_score))\n",
    "        s_scores_deque.append(np.mean(s_score))\n",
    "\n",
    "        g_scores.append(np.mean(g_score))\n",
    "        s_scores.append(np.mean(s_score))\n",
    "\n",
    "        if i_episode % 100 == 0:\n",
    "            print('\\rEpisode {}\\tAverage Score - g:{:.2f} s:{:.2f}'.format(i_episode, np.mean(g_scores_deque), np.mean(s_scores_deque)))\n",
    "\n",
    "            torch.save(g_agent.actor_local.state_dict(), 'checkpoint_actor_soccer_g.pth')\n",
    "            torch.save(g_agent.critic_local.state_dict(), 'checkpoint_critic_soccer_g.pth')   \n",
    "\n",
    "            torch.save(s_agent.actor_local.state_dict(), 'checkpoint_actor_soccer_s.pth')\n",
    "            torch.save(s_agent.critic_local.state_dict(), 'checkpoint_critic_soccer_s.pth')   \n",
    "\n",
    "    return g_scores, s_scores\n",
    "            \n",
    "\n",
    "g_scores, s_scores = DDPGMA()\n",
    "\n",
    "\n",
    "fig = plt.figure()\n",
    "ax = fig.add_subplot(111)\n",
    "plt.plot(np.arange(1, len(g_scores)+1), g_scores, 'r-')\n",
    "plt.plot(np.arange(1, len(s_scores)+1), s_scores, 'b-')\n",
    "plt.ylabel('Score')\n",
    "plt.xlabel('Episode #')\n",
    "plt.show()"
   ]
  },
  {
   "cell_type": "markdown",
   "metadata": {},
   "source": [
    "When finished, you can close the environment."
   ]
  },
  {
   "cell_type": "code",
   "execution_count": null,
   "metadata": {},
   "outputs": [],
   "source": [
    "env.close()"
   ]
  },
  {
   "cell_type": "markdown",
   "metadata": {},
   "source": [
    "### 4. It's Your Turn!\n",
    "\n",
    "Now it's your turn to train your own agent to solve the environment!  When training the environment, set `train_mode=True`, so that the line for resetting the environment looks like the following:\n",
    "```python\n",
    "env_info = env.reset(train_mode=True)[brain_name]\n",
    "```"
   ]
  },
  {
   "cell_type": "code",
   "execution_count": null,
   "metadata": {},
   "outputs": [],
   "source": []
  }
 ],
 "metadata": {
  "kernelspec": {
   "display_name": "drlnd",
   "language": "python",
   "name": "drlnd"
  },
  "language_info": {
   "codemirror_mode": {
    "name": "ipython",
    "version": 3
   },
   "file_extension": ".py",
   "mimetype": "text/x-python",
   "name": "python",
   "nbconvert_exporter": "python",
   "pygments_lexer": "ipython3",
   "version": "3.6.5"
  }
 },
 "nbformat": 4,
 "nbformat_minor": 2
}
